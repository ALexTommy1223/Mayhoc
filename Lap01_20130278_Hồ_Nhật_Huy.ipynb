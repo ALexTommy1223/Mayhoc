{
  "nbformat": 4,
  "nbformat_minor": 0,
  "metadata": {
    "colab": {
      "provenance": [],
      "authorship_tag": "ABX9TyN72N9SqVqukovJuB9aDnuZ",
      "include_colab_link": true
    },
    "kernelspec": {
      "name": "python3",
      "display_name": "Python 3"
    },
    "language_info": {
      "name": "python"
    }
  },
  "cells": [
    {
      "cell_type": "markdown",
      "metadata": {
        "id": "view-in-github",
        "colab_type": "text"
      },
      "source": [
        "<a href=\"https://colab.research.google.com/github/ALexTommy1223/Mayhoc/blob/main/Lap01_20130278_H%E1%BB%93_Nh%E1%BA%ADt_Huy.ipynb\" target=\"_parent\"><img src=\"https://colab.research.google.com/assets/colab-badge.svg\" alt=\"Open In Colab\"/></a>"
      ]
    },
    {
      "cell_type": "code",
      "execution_count": null,
      "metadata": {
        "colab": {
          "base_uri": "https://localhost:8080/"
        },
        "id": "v9aPjLP-7PEp",
        "outputId": "a0355ff6-105f-464d-d16f-3b71a98c36e9"
      },
      "outputs": [
        {
          "output_type": "stream",
          "name": "stdout",
          "text": [
            "Enter the number of integers: 4\n",
            "Enter integer 1: 4\n",
            "Enter integer 2: 1\n",
            "Enter integer 3: 2\n",
            "Enter integer 4: 3\n",
            "Max element in L:  4\n",
            "Min element in L:  1\n",
            "Sum of elements in L:  10\n",
            "Sorted list L:  [1, 2, 3, 4]\n",
            "Number of positive elements in L:  4\n",
            "Number of negative elements in L:  0\n"
          ]
        }
      ],
      "source": [
        "# Task 1.1\n",
        "# Input an integer n\n",
        "n = int(input(\"Enter the number of integers: \"))\n",
        "\n",
        "# Input n integer numbers and append them into a list L\n",
        "L = []\n",
        "for i in range(n):\n",
        "    x = int(input(\"Enter integer {}: \".format(i+1)))\n",
        "    L.append(x)\n",
        "\n",
        "# Find the max/min element in L\n",
        "max_element = max(L)\n",
        "min_element = min(L)\n",
        "\n",
        "# Compute the sum of elements in L\n",
        "sum_elements = sum(L)\n",
        "\n",
        "# Sort the list L in ascending order\n",
        "sorted_L = sorted(L)\n",
        "\n",
        "# Count how many positive and negative numbers are in L\n",
        "positive_count = sum(1 for x in L if x > 0)\n",
        "negative_count = sum(1 for x in L if x < 0)\n",
        "\n",
        "# Display the results\n",
        "print(\"Max element in L: \", max_element)\n",
        "print(\"Min element in L: \", min_element)\n",
        "print(\"Sum of elements in L: \", sum_elements)\n",
        "print(\"Sorted list L: \", sorted_L)\n",
        "print(\"Number of positive elements in L: \", positive_count)\n",
        "print(\"Number of negative elements in L: \", negative_count)\n",
        "\n"
      ]
    },
    {
      "cell_type": "code",
      "source": [
        "# Task 1.2\n",
        "n = int(input(\"Enter n: \"))\n",
        "Sn = 1.0  \n",
        "\n",
        "for i in range(1, n+1):\n",
        "    term = 1.0 / (2*i + 1) \n",
        "    Sn += term  \n",
        "\n",
        "print(\"Sn =\", Sn)\n",
        "\n"
      ],
      "metadata": {
        "colab": {
          "base_uri": "https://localhost:8080/"
        },
        "id": "nBorLP3C3qRc",
        "outputId": "f4467795-c46d-4d8b-f648-9d83bf9854a8"
      },
      "execution_count": null,
      "outputs": [
        {
          "output_type": "stream",
          "name": "stdout",
          "text": [
            "Enter n: 2\n",
            "Sn = 1.5333333333333332\n"
          ]
        }
      ]
    },
    {
      "cell_type": "code",
      "source": [
        "# Task 1.3\n",
        "from typing import List\n",
        "\n",
        "class Product:\n",
        "    def __init__(self, name: str, product_type: str, price: int, expiry_date: str):\n",
        "        self.name = name\n",
        "        self.product_type = product_type\n",
        "        self.price = price\n",
        "        self.expiry_date = expiry_date\n",
        "\n",
        "class OrderItem:\n",
        "    def __init__(self, product: Product, amount: int):\n",
        "        self.product = product\n",
        "        self.amount = amount\n",
        "\n",
        "class Order:\n",
        "    def __init__(self, order_id: str, customer: str, employee: str, date: str, items: List[OrderItem]):\n",
        "        self.order_id = order_id\n",
        "        self.customer = customer\n",
        "        self.employee = employee\n",
        "        self.date = date\n",
        "        self.items = items\n",
        "\n",
        "class OrderManager:\n",
        "    def __init__(self, orders: List[Order]):\n",
        "        self.orders = orders\n",
        "\n",
        "    def highest_priced_product(self) -> Product:\n",
        "        return max((item.product for order in self.orders for item in order.items), key=lambda p: p.price)\n",
        "\n",
        "    def products_by_type(self) -> dict:\n",
        "        product_count = {}\n",
        "        for order in self.orders:\n",
        "            for item in order.items:\n",
        "                if item.product.product_type in product_count:\n",
        "                    product_count[item.product.product_type] += item.amount\n",
        "                else:\n",
        "                    product_count[item.product.product_type] = item.amount\n",
        "        return product_count\n",
        "\n",
        "class ImportedProduct(Product):\n",
        "    def __init__(self, name: str, product_type: str, price: int, expiry_date: str, from_country: str):\n",
        "        super().__init__(name, product_type, price, expiry_date)\n",
        "        self.from_country = from_country\n",
        "\n",
        "class DomesticProduct(Product):\n",
        "    pass\n",
        "if __name__ == '__main__':\n",
        "    product1 = Product('Apple', 'fruit', 10, '2023-03-31')\n",
        "    product2 = Product('Milk', 'dairy', 20, '2023-03-05')\n",
        "    product3 = ImportedProduct('Wine', 'alcohol', 50, '2023-04-30', 'France')\n",
        "    product4 = DomesticProduct('Bread', 'bakery', 5, '2023-03-05')\n",
        "\n",
        "    order1 = Order('001', 'John Doe', 'Jane Smith', '2023-03-01', [OrderItem(product1, 2), OrderItem(product2, 1)])\n",
        "    order2 = Order('002', 'Jane Smith', 'John Doe', '2023-03-02', [OrderItem(product3, 1), OrderItem(product4, 3)])\n",
        "    order_manager = OrderManager([order1, order2])\n",
        "\n",
        "    print('Sản phẩm có giá trị cao nhất :', order_manager.highest_priced_product().name)\n",
        "    print('Sản phẩm theo loại:', order_manager.products_by_type())\n",
        "\n"
      ],
      "metadata": {
        "colab": {
          "base_uri": "https://localhost:8080/"
        },
        "id": "Aw1nFine4QE6",
        "outputId": "cd96e725-2f1e-4163-d9ff-4ff6b551b4cd"
      },
      "execution_count": null,
      "outputs": [
        {
          "output_type": "stream",
          "name": "stdout",
          "text": [
            "Sản phẩm có giá trị cao nhất : Wine\n",
            "Sản phẩm theo loại: {'fruit': 2, 'dairy': 1, 'alcohol': 1, 'bakery': 3}\n"
          ]
        }
      ]
    },
    {
      "cell_type": "code",
      "source": [
        "# Task 2.1\n",
        "import numpy as np\n",
        "\n",
        "\n",
        "arr = np.arange(10, 26)\n",
        "print('Mảng ban đầu:', arr)\n",
        "\n",
        "# Reverse the array\n",
        "arr = arr[::-1]\n",
        "print('Mảng đảo ngược:', arr)\n"
      ],
      "metadata": {
        "colab": {
          "base_uri": "https://localhost:8080/"
        },
        "id": "HEpAO0mi50mc",
        "outputId": "fae07613-389d-414c-9514-b1b37b913410"
      },
      "execution_count": null,
      "outputs": [
        {
          "output_type": "stream",
          "name": "stdout",
          "text": [
            "Mảng ban đầu: [10 11 12 13 14 15 16 17 18 19 20 21 22 23 24 25]\n",
            "Mảng đảo ngược: [25 24 23 22 21 20 19 18 17 16 15 14 13 12 11 10]\n"
          ]
        }
      ]
    },
    {
      "cell_type": "code",
      "source": [
        "# Task 2.2\n",
        "import numpy as np\n",
        "\n",
        "\n",
        "arr = np.array([1, 2, 3, 4])\n",
        "print('Mảng ban đầu:', arr)\n",
        "\n",
        "\n",
        "arr_2x = np.tile(arr, 2)\n",
        "print('Mảng thứ hai:', arr_2x)\n",
        "\n",
        "\n",
        "arr_3x = np.tile(arr, 3)\n",
        "print('Mảng thứ ba:', arr_3x)\n"
      ],
      "metadata": {
        "colab": {
          "base_uri": "https://localhost:8080/"
        },
        "id": "e3VZZDIi6zuM",
        "outputId": "aa59dbf4-80e8-4652-9c41-ceaed429f8bd"
      },
      "execution_count": null,
      "outputs": [
        {
          "output_type": "stream",
          "name": "stdout",
          "text": [
            "Mảng ban đầu: [1 2 3 4]\n",
            "Mảng thứ hai: [1 2 3 4 1 2 3 4]\n",
            "Mảng thứ ba: [1 2 3 4 1 2 3 4 1 2 3 4]\n"
          ]
        }
      ]
    },
    {
      "cell_type": "code",
      "source": [
        "# Task 2.3\n",
        "import numpy as np\n",
        "\n",
        "# Input array\n",
        "arr = np.array([[0.42, 0.48, 0.32],\n",
        "                [0.74, 0.58, 0.38],\n",
        "                [0.51, 0.34, 0.15]])\n",
        "print('Mảng ban đầu:')\n",
        "print(arr)\n",
        "\n",
        "\n",
        "arr[arr > 0.5] = 0.5\n",
        "print('Thay thế tất cả các phần tử của mảng ban đầu bằng .5 lớn hơn .5')\n",
        "print(arr)\n"
      ],
      "metadata": {
        "colab": {
          "base_uri": "https://localhost:8080/"
        },
        "id": "Ed_lLWte7Ydz",
        "outputId": "96ad066e-72fb-431c-b6a5-e8c61fdda689"
      },
      "execution_count": null,
      "outputs": [
        {
          "output_type": "stream",
          "name": "stdout",
          "text": [
            "Mảng ban đầu:\n",
            "[[0.42 0.48 0.32]\n",
            " [0.74 0.58 0.38]\n",
            " [0.51 0.34 0.15]]\n",
            "Thay thế tất cả các phần tử của mảng ban đầu bằng .5 lớn hơn .5\n",
            "[[0.42 0.48 0.32]\n",
            " [0.5  0.5  0.38]\n",
            " [0.5  0.34 0.15]]\n"
          ]
        }
      ]
    }
  ]
}